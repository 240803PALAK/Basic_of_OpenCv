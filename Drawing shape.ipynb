{
 "cells": [
  {
   "cell_type": "code",
   "execution_count": null,
   "id": "541d76c8-6300-41d5-9182-1236d9556e50",
   "metadata": {},
   "outputs": [],
   "source": [
    "import cv2 as cv\n",
    "import numpy as np\n",
    "\n",
    "blank=np.zeros((500,500,3),dtype='uint8')\n",
    "cv.imshow(\"Black\",blank)\n",
    "\n",
    "# paint\n",
    "blank[200:300,300:400]=0,255,0\n",
    "cv.imshow(\"Green\",blank)\n",
    "\n",
    "cv.rectangle(blank,(0,0),(250,250),(0,255,0),thickness=-1)\n",
    "cv.imshow(\"Rectangle\",blank)\n",
    "\n",
    "cv.circle(blank,(blank.shape[1]//2,blank.shape[0]//2),40,(0,0,255),thickness=-1)\n",
    "cv.imshow(\"Circle\",blank)\n",
    "\n",
    "# text on image\n",
    "cv.putText(blank,\"Hello\",(255,255),cv.FONT_HERSHEY_TRIPLEX,1.0,(0,0,255),2)\n",
    "cv.imshow(\"Text\",blank)\n",
    "\n",
    "cv.waitKey(0)"
   ]
  },
  {
   "cell_type": "code",
   "execution_count": 1,
   "id": "10ea3149-5103-4dfc-9b5e-a000ca052d40",
   "metadata": {},
   "outputs": [
    {
     "data": {
      "text/plain": [
       "-1"
      ]
     },
     "execution_count": 1,
     "metadata": {},
     "output_type": "execute_result"
    }
   ],
   "source": [
    "# Converting to grayscale\n",
    "import cv2 as cv\n",
    "\n",
    "img=cv.imread('peacock.jpg')\n",
    "gray=cv.cvtColor(img,cv.COLOR_BGR2GRAY)\n",
    "cv.imshow(\"Gray\",gray)\n",
    "cv.waitKey(0)"
   ]
  },
  {
   "cell_type": "code",
   "execution_count": 5,
   "id": "ea1aad0f-76df-4ef5-b823-b0a655adc629",
   "metadata": {},
   "outputs": [
    {
     "data": {
      "text/plain": [
       "-1"
      ]
     },
     "execution_count": 5,
     "metadata": {},
     "output_type": "execute_result"
    }
   ],
   "source": [
    "# Bluring\n",
    "import cv2 as cv\n",
    "\n",
    "img=cv.imread('peacock.jpg')\n",
    "blur=cv.GaussianBlur(img,(3,3),cv.BORDER_DEFAULT)\n",
    "cv.imshow(\"Blur\",blur)\n",
    "\n",
    "cv.waitKey(0)"
   ]
  },
  {
   "cell_type": "code",
   "execution_count": 7,
   "id": "c13665e9-976d-4287-a467-65fec56d773f",
   "metadata": {},
   "outputs": [
    {
     "data": {
      "text/plain": [
       "-1"
      ]
     },
     "execution_count": 7,
     "metadata": {},
     "output_type": "execute_result"
    }
   ],
   "source": [
    "# Edge Cascade\n",
    "import cv2 as cv\n",
    "\n",
    "img=cv.imread('peacock.jpg')\n",
    "canny=cv.Canny(img,125,175)\n",
    "cv.imshow(\"Canny Edges\",canny)\n",
    "\n",
    "cv.waitKey(0)"
   ]
  },
  {
   "cell_type": "code",
   "execution_count": 9,
   "id": "9680afec-44cd-422f-89a7-2c655298b908",
   "metadata": {},
   "outputs": [
    {
     "data": {
      "text/plain": [
       "-1"
      ]
     },
     "execution_count": 9,
     "metadata": {},
     "output_type": "execute_result"
    }
   ],
   "source": [
    "# Eroding\n",
    "import cv2 as cv\n",
    "\n",
    "eroded=cv.erode(canny,(3,3),iterations=1)\n",
    "cv.imshow(\"Eroded\",eroded)\n",
    "\n",
    "cv.waitKey(0)"
   ]
  },
  {
   "cell_type": "code",
   "execution_count": 10,
   "id": "278685ad-30f4-4465-9bea-7207e744fbc5",
   "metadata": {},
   "outputs": [
    {
     "data": {
      "text/plain": [
       "-1"
      ]
     },
     "execution_count": 10,
     "metadata": {},
     "output_type": "execute_result"
    }
   ],
   "source": [
    "# Resize\n",
    "import cv2 as cv\n",
    "\n",
    "img=cv.imread('peacock.jpg')\n",
    "resized=cv.resize(img,(500,500),interpolation=cv.INTER_CUBIC)\n",
    "cv.imshow(\"Resized\",resized)\n",
    "\n",
    "cv.waitKey(0)"
   ]
  },
  {
   "cell_type": "code",
   "execution_count": 11,
   "id": "8b3ae3d5-8983-4418-aa0b-cd996e6e7981",
   "metadata": {},
   "outputs": [
    {
     "data": {
      "text/plain": [
       "-1"
      ]
     },
     "execution_count": 11,
     "metadata": {},
     "output_type": "execute_result"
    }
   ],
   "source": [
    "# Croping\n",
    "import cv2 as cv\n",
    "\n",
    "img=cv.imread('peacock.jpg')\n",
    "cropped=img[50:200,200:400]\n",
    "cv.imshow(\"Cropped\",cropped)\n",
    "\n",
    "cv.waitKey(0)"
   ]
  },
  {
   "cell_type": "code",
   "execution_count": 1,
   "id": "784de9f9-1722-4938-8606-23de51afcac0",
   "metadata": {},
   "outputs": [
    {
     "data": {
      "text/plain": [
       "-1"
      ]
     },
     "execution_count": 1,
     "metadata": {},
     "output_type": "execute_result"
    }
   ],
   "source": [
    "# Flipping\n",
    "import cv2 as cv\n",
    "\n",
    "img=cv.imread('peacock.jpg')\n",
    "flip=cv.flip(img,-1)\n",
    "cv.imshow('Flip',flip)\n",
    "\n",
    "cv.waitKey(0)\n"
   ]
  },
  {
   "cell_type": "code",
   "execution_count": null,
   "id": "37d16303-bcd5-4aec-8655-c9f3e07505c6",
   "metadata": {},
   "outputs": [],
   "source": []
  }
 ],
 "metadata": {
  "kernelspec": {
   "display_name": "Python 3 (ipykernel)",
   "language": "python",
   "name": "python3"
  },
  "language_info": {
   "codemirror_mode": {
    "name": "ipython",
    "version": 3
   },
   "file_extension": ".py",
   "mimetype": "text/x-python",
   "name": "python",
   "nbconvert_exporter": "python",
   "pygments_lexer": "ipython3",
   "version": "3.12.0"
  }
 },
 "nbformat": 4,
 "nbformat_minor": 5
}
